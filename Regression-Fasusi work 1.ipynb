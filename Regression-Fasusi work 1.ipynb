{
 "cells": [
  {
   "cell_type": "code",
   "execution_count": 1,
   "id": "03bf27dd",
   "metadata": {},
   "outputs": [],
   "source": [
    "#import libraries\n",
    "import pandas as pd\n",
    "import numpy as np\n",
    "import matplotlib.pyplot as plt\n",
    "import seaborn as sns\n",
    "%matplotlib inline"
   ]
  },
  {
   "cell_type": "code",
   "execution_count": 2,
   "id": "097f0f70",
   "metadata": {},
   "outputs": [
    {
     "data": {
      "text/html": [
       "<div>\n",
       "<style scoped>\n",
       "    .dataframe tbody tr th:only-of-type {\n",
       "        vertical-align: middle;\n",
       "    }\n",
       "\n",
       "    .dataframe tbody tr th {\n",
       "        vertical-align: top;\n",
       "    }\n",
       "\n",
       "    .dataframe thead th {\n",
       "        text-align: right;\n",
       "    }\n",
       "</style>\n",
       "<table border=\"1\" class=\"dataframe\">\n",
       "  <thead>\n",
       "    <tr style=\"text-align: right;\">\n",
       "      <th></th>\n",
       "      <th>Relative_Compactness</th>\n",
       "      <th>Surface_Area</th>\n",
       "      <th>Wall_Area</th>\n",
       "      <th>Roof_Area</th>\n",
       "      <th>Overall_Height</th>\n",
       "      <th>Orientation</th>\n",
       "      <th>Glazing_Area</th>\n",
       "      <th>Glazing_Area_Distribution</th>\n",
       "      <th>Heating_Load</th>\n",
       "      <th>Cooling_Load</th>\n",
       "      <th>Unnamed: 10</th>\n",
       "      <th>Unnamed: 11</th>\n",
       "    </tr>\n",
       "  </thead>\n",
       "  <tbody>\n",
       "    <tr>\n",
       "      <th>0</th>\n",
       "      <td>0.98</td>\n",
       "      <td>514.5</td>\n",
       "      <td>294.0</td>\n",
       "      <td>110.25</td>\n",
       "      <td>7.0</td>\n",
       "      <td>2</td>\n",
       "      <td>0.0</td>\n",
       "      <td>0</td>\n",
       "      <td>15.55</td>\n",
       "      <td>21.33</td>\n",
       "      <td>NaN</td>\n",
       "      <td>NaN</td>\n",
       "    </tr>\n",
       "    <tr>\n",
       "      <th>1</th>\n",
       "      <td>0.98</td>\n",
       "      <td>514.5</td>\n",
       "      <td>294.0</td>\n",
       "      <td>110.25</td>\n",
       "      <td>7.0</td>\n",
       "      <td>3</td>\n",
       "      <td>0.0</td>\n",
       "      <td>0</td>\n",
       "      <td>15.55</td>\n",
       "      <td>21.33</td>\n",
       "      <td>NaN</td>\n",
       "      <td>NaN</td>\n",
       "    </tr>\n",
       "    <tr>\n",
       "      <th>2</th>\n",
       "      <td>0.98</td>\n",
       "      <td>514.5</td>\n",
       "      <td>294.0</td>\n",
       "      <td>110.25</td>\n",
       "      <td>7.0</td>\n",
       "      <td>4</td>\n",
       "      <td>0.0</td>\n",
       "      <td>0</td>\n",
       "      <td>15.55</td>\n",
       "      <td>21.33</td>\n",
       "      <td>NaN</td>\n",
       "      <td>NaN</td>\n",
       "    </tr>\n",
       "    <tr>\n",
       "      <th>3</th>\n",
       "      <td>0.98</td>\n",
       "      <td>514.5</td>\n",
       "      <td>294.0</td>\n",
       "      <td>110.25</td>\n",
       "      <td>7.0</td>\n",
       "      <td>5</td>\n",
       "      <td>0.0</td>\n",
       "      <td>0</td>\n",
       "      <td>15.55</td>\n",
       "      <td>21.33</td>\n",
       "      <td>NaN</td>\n",
       "      <td>NaN</td>\n",
       "    </tr>\n",
       "    <tr>\n",
       "      <th>4</th>\n",
       "      <td>0.90</td>\n",
       "      <td>563.5</td>\n",
       "      <td>318.5</td>\n",
       "      <td>122.50</td>\n",
       "      <td>7.0</td>\n",
       "      <td>2</td>\n",
       "      <td>0.0</td>\n",
       "      <td>0</td>\n",
       "      <td>20.84</td>\n",
       "      <td>28.28</td>\n",
       "      <td>NaN</td>\n",
       "      <td>NaN</td>\n",
       "    </tr>\n",
       "  </tbody>\n",
       "</table>\n",
       "</div>"
      ],
      "text/plain": [
       "   Relative_Compactness  Surface_Area  Wall_Area  Roof_Area  Overall_Height  \\\n",
       "0                  0.98         514.5      294.0     110.25             7.0   \n",
       "1                  0.98         514.5      294.0     110.25             7.0   \n",
       "2                  0.98         514.5      294.0     110.25             7.0   \n",
       "3                  0.98         514.5      294.0     110.25             7.0   \n",
       "4                  0.90         563.5      318.5     122.50             7.0   \n",
       "\n",
       "   Orientation  Glazing_Area  Glazing_Area_Distribution  Heating_Load  \\\n",
       "0            2           0.0                          0         15.55   \n",
       "1            3           0.0                          0         15.55   \n",
       "2            4           0.0                          0         15.55   \n",
       "3            5           0.0                          0         15.55   \n",
       "4            2           0.0                          0         20.84   \n",
       "\n",
       "   Cooling_Load  Unnamed: 10  Unnamed: 11  \n",
       "0         21.33          NaN          NaN  \n",
       "1         21.33          NaN          NaN  \n",
       "2         21.33          NaN          NaN  \n",
       "3         21.33          NaN          NaN  \n",
       "4         28.28          NaN          NaN  "
      ]
     },
     "execution_count": 2,
     "metadata": {},
     "output_type": "execute_result"
    }
   ],
   "source": [
    "df= pd.read_excel(r\"C:\\Users\\PC\\Documents\\Hamoye Classwork\\CSV File\\ENB2012_data_csv.xlsx\")\n",
    " #rename columns\n",
    "column_names = { 'X1' : 'Relative_Compactness' , 'X2' : 'Surface_Area' ,\n",
    "'X3' : 'Wall_Area' , 'X4' : 'Roof_Area' , 'X5' : 'Overall_Height' ,\n",
    "'X6' : 'Orientation' , 'X7' : 'Glazing_Area' ,\n",
    "'X8' : 'Glazing_Area_Distribution' ,\n",
    "'Y1' : 'Heating_Load' , 'Y2' : 'Cooling_Load' }\n",
    "df = df.rename(columns=column_names)\n",
    "df.head()"
   ]
  },
  {
   "cell_type": "code",
   "execution_count": 3,
   "id": "a8c76f87",
   "metadata": {},
   "outputs": [
    {
     "data": {
      "text/plain": [
       "Relative_Compactness         768\n",
       "Surface_Area                 768\n",
       "Wall_Area                    768\n",
       "Roof_Area                    768\n",
       "Overall_Height               768\n",
       "Orientation                  768\n",
       "Glazing_Area                 768\n",
       "Glazing_Area_Distribution    768\n",
       "Heating_Load                 768\n",
       "Cooling_Load                 768\n",
       "Unnamed: 10                    0\n",
       "Unnamed: 11                    0\n",
       "dtype: int64"
      ]
     },
     "execution_count": 3,
     "metadata": {},
     "output_type": "execute_result"
    }
   ],
   "source": [
    "df.count()"
   ]
  },
  {
   "cell_type": "code",
   "execution_count": 4,
   "id": "dbcbbb96",
   "metadata": {},
   "outputs": [
    {
     "name": "stdout",
     "output_type": "stream",
     "text": [
      "<class 'pandas.core.frame.DataFrame'>\n",
      "RangeIndex: 768 entries, 0 to 767\n",
      "Data columns (total 12 columns):\n",
      " #   Column                     Non-Null Count  Dtype  \n",
      "---  ------                     --------------  -----  \n",
      " 0   Relative_Compactness       768 non-null    float64\n",
      " 1   Surface_Area               768 non-null    float64\n",
      " 2   Wall_Area                  768 non-null    float64\n",
      " 3   Roof_Area                  768 non-null    float64\n",
      " 4   Overall_Height             768 non-null    float64\n",
      " 5   Orientation                768 non-null    int64  \n",
      " 6   Glazing_Area               768 non-null    float64\n",
      " 7   Glazing_Area_Distribution  768 non-null    int64  \n",
      " 8   Heating_Load               768 non-null    float64\n",
      " 9   Cooling_Load               768 non-null    float64\n",
      " 10  Unnamed: 10                0 non-null      float64\n",
      " 11  Unnamed: 11                0 non-null      float64\n",
      "dtypes: float64(10), int64(2)\n",
      "memory usage: 72.1 KB\n"
     ]
    }
   ],
   "source": [
    "df.info()"
   ]
  },
  {
   "cell_type": "code",
   "execution_count": 5,
   "id": "752b351e",
   "metadata": {},
   "outputs": [
    {
     "data": {
      "text/plain": [
       "(768, 12)"
      ]
     },
     "execution_count": 5,
     "metadata": {},
     "output_type": "execute_result"
    }
   ],
   "source": [
    "df.shape"
   ]
  },
  {
   "cell_type": "code",
   "execution_count": 6,
   "id": "fe8452fa",
   "metadata": {},
   "outputs": [
    {
     "name": "stdout",
     "output_type": "stream",
     "text": [
      "Relative_Compactness 12\n",
      "Surface_Area 12\n",
      "Wall_Area 7\n",
      "Roof_Area 4\n",
      "Overall_Height 2\n",
      "Orientation 4\n",
      "Glazing_Area 4\n",
      "Glazing_Area_Distribution 6\n",
      "Cooling_Load 636\n",
      "Unnamed: 10 1\n",
      "Unnamed: 11 1\n"
     ]
    }
   ],
   "source": [
    "for feature in df.columns:\n",
    "    if feature!=\"Heating_Load\":\n",
    "        print(feature,len(df[feature].unique()))"
   ]
  },
  {
   "cell_type": "code",
   "execution_count": 7,
   "id": "8d15c28b",
   "metadata": {},
   "outputs": [
    {
     "data": {
      "text/plain": [
       "array([0.  , 0.1 , 0.25, 0.4 ])"
      ]
     },
     "execution_count": 7,
     "metadata": {},
     "output_type": "execute_result"
    }
   ],
   "source": [
    "df[\"Glazing_Area\"].unique()"
   ]
  },
  {
   "cell_type": "code",
   "execution_count": 8,
   "id": "7b40ed02",
   "metadata": {},
   "outputs": [
    {
     "data": {
      "text/html": [
       "<div>\n",
       "<style scoped>\n",
       "    .dataframe tbody tr th:only-of-type {\n",
       "        vertical-align: middle;\n",
       "    }\n",
       "\n",
       "    .dataframe tbody tr th {\n",
       "        vertical-align: top;\n",
       "    }\n",
       "\n",
       "    .dataframe thead th {\n",
       "        text-align: right;\n",
       "    }\n",
       "</style>\n",
       "<table border=\"1\" class=\"dataframe\">\n",
       "  <thead>\n",
       "    <tr style=\"text-align: right;\">\n",
       "      <th></th>\n",
       "      <th>Relative_Compactness</th>\n",
       "      <th>Surface_Area</th>\n",
       "      <th>Wall_Area</th>\n",
       "      <th>Roof_Area</th>\n",
       "      <th>Overall_Height</th>\n",
       "      <th>Orientation</th>\n",
       "      <th>Glazing_Area</th>\n",
       "      <th>Glazing_Area_Distribution</th>\n",
       "      <th>Heating_Load</th>\n",
       "      <th>Cooling_Load</th>\n",
       "      <th>Unnamed: 10</th>\n",
       "      <th>Unnamed: 11</th>\n",
       "    </tr>\n",
       "  </thead>\n",
       "  <tbody>\n",
       "    <tr>\n",
       "      <th>0</th>\n",
       "      <td>False</td>\n",
       "      <td>False</td>\n",
       "      <td>False</td>\n",
       "      <td>False</td>\n",
       "      <td>False</td>\n",
       "      <td>False</td>\n",
       "      <td>False</td>\n",
       "      <td>False</td>\n",
       "      <td>False</td>\n",
       "      <td>False</td>\n",
       "      <td>True</td>\n",
       "      <td>True</td>\n",
       "    </tr>\n",
       "    <tr>\n",
       "      <th>1</th>\n",
       "      <td>False</td>\n",
       "      <td>False</td>\n",
       "      <td>False</td>\n",
       "      <td>False</td>\n",
       "      <td>False</td>\n",
       "      <td>False</td>\n",
       "      <td>False</td>\n",
       "      <td>False</td>\n",
       "      <td>False</td>\n",
       "      <td>False</td>\n",
       "      <td>True</td>\n",
       "      <td>True</td>\n",
       "    </tr>\n",
       "    <tr>\n",
       "      <th>2</th>\n",
       "      <td>False</td>\n",
       "      <td>False</td>\n",
       "      <td>False</td>\n",
       "      <td>False</td>\n",
       "      <td>False</td>\n",
       "      <td>False</td>\n",
       "      <td>False</td>\n",
       "      <td>False</td>\n",
       "      <td>False</td>\n",
       "      <td>False</td>\n",
       "      <td>True</td>\n",
       "      <td>True</td>\n",
       "    </tr>\n",
       "    <tr>\n",
       "      <th>3</th>\n",
       "      <td>False</td>\n",
       "      <td>False</td>\n",
       "      <td>False</td>\n",
       "      <td>False</td>\n",
       "      <td>False</td>\n",
       "      <td>False</td>\n",
       "      <td>False</td>\n",
       "      <td>False</td>\n",
       "      <td>False</td>\n",
       "      <td>False</td>\n",
       "      <td>True</td>\n",
       "      <td>True</td>\n",
       "    </tr>\n",
       "    <tr>\n",
       "      <th>4</th>\n",
       "      <td>False</td>\n",
       "      <td>False</td>\n",
       "      <td>False</td>\n",
       "      <td>False</td>\n",
       "      <td>False</td>\n",
       "      <td>False</td>\n",
       "      <td>False</td>\n",
       "      <td>False</td>\n",
       "      <td>False</td>\n",
       "      <td>False</td>\n",
       "      <td>True</td>\n",
       "      <td>True</td>\n",
       "    </tr>\n",
       "    <tr>\n",
       "      <th>...</th>\n",
       "      <td>...</td>\n",
       "      <td>...</td>\n",
       "      <td>...</td>\n",
       "      <td>...</td>\n",
       "      <td>...</td>\n",
       "      <td>...</td>\n",
       "      <td>...</td>\n",
       "      <td>...</td>\n",
       "      <td>...</td>\n",
       "      <td>...</td>\n",
       "      <td>...</td>\n",
       "      <td>...</td>\n",
       "    </tr>\n",
       "    <tr>\n",
       "      <th>763</th>\n",
       "      <td>False</td>\n",
       "      <td>False</td>\n",
       "      <td>False</td>\n",
       "      <td>False</td>\n",
       "      <td>False</td>\n",
       "      <td>False</td>\n",
       "      <td>False</td>\n",
       "      <td>False</td>\n",
       "      <td>False</td>\n",
       "      <td>False</td>\n",
       "      <td>True</td>\n",
       "      <td>True</td>\n",
       "    </tr>\n",
       "    <tr>\n",
       "      <th>764</th>\n",
       "      <td>False</td>\n",
       "      <td>False</td>\n",
       "      <td>False</td>\n",
       "      <td>False</td>\n",
       "      <td>False</td>\n",
       "      <td>False</td>\n",
       "      <td>False</td>\n",
       "      <td>False</td>\n",
       "      <td>False</td>\n",
       "      <td>False</td>\n",
       "      <td>True</td>\n",
       "      <td>True</td>\n",
       "    </tr>\n",
       "    <tr>\n",
       "      <th>765</th>\n",
       "      <td>False</td>\n",
       "      <td>False</td>\n",
       "      <td>False</td>\n",
       "      <td>False</td>\n",
       "      <td>False</td>\n",
       "      <td>False</td>\n",
       "      <td>False</td>\n",
       "      <td>False</td>\n",
       "      <td>False</td>\n",
       "      <td>False</td>\n",
       "      <td>True</td>\n",
       "      <td>True</td>\n",
       "    </tr>\n",
       "    <tr>\n",
       "      <th>766</th>\n",
       "      <td>False</td>\n",
       "      <td>False</td>\n",
       "      <td>False</td>\n",
       "      <td>False</td>\n",
       "      <td>False</td>\n",
       "      <td>False</td>\n",
       "      <td>False</td>\n",
       "      <td>False</td>\n",
       "      <td>False</td>\n",
       "      <td>False</td>\n",
       "      <td>True</td>\n",
       "      <td>True</td>\n",
       "    </tr>\n",
       "    <tr>\n",
       "      <th>767</th>\n",
       "      <td>False</td>\n",
       "      <td>False</td>\n",
       "      <td>False</td>\n",
       "      <td>False</td>\n",
       "      <td>False</td>\n",
       "      <td>False</td>\n",
       "      <td>False</td>\n",
       "      <td>False</td>\n",
       "      <td>False</td>\n",
       "      <td>False</td>\n",
       "      <td>True</td>\n",
       "      <td>True</td>\n",
       "    </tr>\n",
       "  </tbody>\n",
       "</table>\n",
       "<p>768 rows × 12 columns</p>\n",
       "</div>"
      ],
      "text/plain": [
       "     Relative_Compactness  Surface_Area  Wall_Area  Roof_Area  Overall_Height  \\\n",
       "0                   False         False      False      False           False   \n",
       "1                   False         False      False      False           False   \n",
       "2                   False         False      False      False           False   \n",
       "3                   False         False      False      False           False   \n",
       "4                   False         False      False      False           False   \n",
       "..                    ...           ...        ...        ...             ...   \n",
       "763                 False         False      False      False           False   \n",
       "764                 False         False      False      False           False   \n",
       "765                 False         False      False      False           False   \n",
       "766                 False         False      False      False           False   \n",
       "767                 False         False      False      False           False   \n",
       "\n",
       "     Orientation  Glazing_Area  Glazing_Area_Distribution  Heating_Load  \\\n",
       "0          False         False                      False         False   \n",
       "1          False         False                      False         False   \n",
       "2          False         False                      False         False   \n",
       "3          False         False                      False         False   \n",
       "4          False         False                      False         False   \n",
       "..           ...           ...                        ...           ...   \n",
       "763        False         False                      False         False   \n",
       "764        False         False                      False         False   \n",
       "765        False         False                      False         False   \n",
       "766        False         False                      False         False   \n",
       "767        False         False                      False         False   \n",
       "\n",
       "     Cooling_Load  Unnamed: 10  Unnamed: 11  \n",
       "0           False         True         True  \n",
       "1           False         True         True  \n",
       "2           False         True         True  \n",
       "3           False         True         True  \n",
       "4           False         True         True  \n",
       "..            ...          ...          ...  \n",
       "763         False         True         True  \n",
       "764         False         True         True  \n",
       "765         False         True         True  \n",
       "766         False         True         True  \n",
       "767         False         True         True  \n",
       "\n",
       "[768 rows x 12 columns]"
      ]
     },
     "execution_count": 8,
     "metadata": {},
     "output_type": "execute_result"
    }
   ],
   "source": [
    "df.isnull()"
   ]
  },
  {
   "cell_type": "code",
   "execution_count": 9,
   "id": "7d8fb7ae",
   "metadata": {},
   "outputs": [
    {
     "data": {
      "text/html": [
       "<div>\n",
       "<style scoped>\n",
       "    .dataframe tbody tr th:only-of-type {\n",
       "        vertical-align: middle;\n",
       "    }\n",
       "\n",
       "    .dataframe tbody tr th {\n",
       "        vertical-align: top;\n",
       "    }\n",
       "\n",
       "    .dataframe thead th {\n",
       "        text-align: right;\n",
       "    }\n",
       "</style>\n",
       "<table border=\"1\" class=\"dataframe\">\n",
       "  <thead>\n",
       "    <tr style=\"text-align: right;\">\n",
       "      <th></th>\n",
       "      <th>Relative_Compactness</th>\n",
       "      <th>Surface_Area</th>\n",
       "      <th>Wall_Area</th>\n",
       "      <th>Roof_Area</th>\n",
       "      <th>Overall_Height</th>\n",
       "      <th>Orientation</th>\n",
       "      <th>Glazing_Area</th>\n",
       "      <th>Glazing_Area_Distribution</th>\n",
       "      <th>Heating_Load</th>\n",
       "      <th>Cooling_Load</th>\n",
       "      <th>Unnamed: 10</th>\n",
       "      <th>Unnamed: 11</th>\n",
       "    </tr>\n",
       "  </thead>\n",
       "  <tbody>\n",
       "    <tr>\n",
       "      <th>Relative_Compactness</th>\n",
       "      <td>1.000000e+00</td>\n",
       "      <td>-9.919015e-01</td>\n",
       "      <td>-2.037817e-01</td>\n",
       "      <td>-8.688234e-01</td>\n",
       "      <td>8.277473e-01</td>\n",
       "      <td>4.678592e-17</td>\n",
       "      <td>-2.960552e-15</td>\n",
       "      <td>-7.107006e-16</td>\n",
       "      <td>0.622272</td>\n",
       "      <td>0.634339</td>\n",
       "      <td>NaN</td>\n",
       "      <td>NaN</td>\n",
       "    </tr>\n",
       "    <tr>\n",
       "      <th>Surface_Area</th>\n",
       "      <td>-9.919015e-01</td>\n",
       "      <td>1.000000e+00</td>\n",
       "      <td>1.955016e-01</td>\n",
       "      <td>8.807195e-01</td>\n",
       "      <td>-8.581477e-01</td>\n",
       "      <td>-3.459372e-17</td>\n",
       "      <td>3.636925e-15</td>\n",
       "      <td>2.438409e-15</td>\n",
       "      <td>-0.658120</td>\n",
       "      <td>-0.672999</td>\n",
       "      <td>NaN</td>\n",
       "      <td>NaN</td>\n",
       "    </tr>\n",
       "    <tr>\n",
       "      <th>Wall_Area</th>\n",
       "      <td>-2.037817e-01</td>\n",
       "      <td>1.955016e-01</td>\n",
       "      <td>1.000000e+00</td>\n",
       "      <td>-2.923165e-01</td>\n",
       "      <td>2.809757e-01</td>\n",
       "      <td>-2.429499e-17</td>\n",
       "      <td>-8.567455e-17</td>\n",
       "      <td>2.067384e-16</td>\n",
       "      <td>0.455671</td>\n",
       "      <td>0.427117</td>\n",
       "      <td>NaN</td>\n",
       "      <td>NaN</td>\n",
       "    </tr>\n",
       "    <tr>\n",
       "      <th>Roof_Area</th>\n",
       "      <td>-8.688234e-01</td>\n",
       "      <td>8.807195e-01</td>\n",
       "      <td>-2.923165e-01</td>\n",
       "      <td>1.000000e+00</td>\n",
       "      <td>-9.725122e-01</td>\n",
       "      <td>-5.830058e-17</td>\n",
       "      <td>-1.759011e-15</td>\n",
       "      <td>-1.078071e-15</td>\n",
       "      <td>-0.861828</td>\n",
       "      <td>-0.862547</td>\n",
       "      <td>NaN</td>\n",
       "      <td>NaN</td>\n",
       "    </tr>\n",
       "    <tr>\n",
       "      <th>Overall_Height</th>\n",
       "      <td>8.277473e-01</td>\n",
       "      <td>-8.581477e-01</td>\n",
       "      <td>2.809757e-01</td>\n",
       "      <td>-9.725122e-01</td>\n",
       "      <td>1.000000e+00</td>\n",
       "      <td>4.492205e-17</td>\n",
       "      <td>1.489134e-17</td>\n",
       "      <td>-2.920613e-17</td>\n",
       "      <td>0.889430</td>\n",
       "      <td>0.895785</td>\n",
       "      <td>NaN</td>\n",
       "      <td>NaN</td>\n",
       "    </tr>\n",
       "    <tr>\n",
       "      <th>Orientation</th>\n",
       "      <td>4.678592e-17</td>\n",
       "      <td>-3.459372e-17</td>\n",
       "      <td>-2.429499e-17</td>\n",
       "      <td>-5.830058e-17</td>\n",
       "      <td>4.492205e-17</td>\n",
       "      <td>1.000000e+00</td>\n",
       "      <td>-9.406007e-16</td>\n",
       "      <td>-2.549352e-16</td>\n",
       "      <td>-0.002587</td>\n",
       "      <td>0.014290</td>\n",
       "      <td>NaN</td>\n",
       "      <td>NaN</td>\n",
       "    </tr>\n",
       "    <tr>\n",
       "      <th>Glazing_Area</th>\n",
       "      <td>-2.960552e-15</td>\n",
       "      <td>3.636925e-15</td>\n",
       "      <td>-8.567455e-17</td>\n",
       "      <td>-1.759011e-15</td>\n",
       "      <td>1.489134e-17</td>\n",
       "      <td>-9.406007e-16</td>\n",
       "      <td>1.000000e+00</td>\n",
       "      <td>2.129642e-01</td>\n",
       "      <td>0.269842</td>\n",
       "      <td>0.207505</td>\n",
       "      <td>NaN</td>\n",
       "      <td>NaN</td>\n",
       "    </tr>\n",
       "    <tr>\n",
       "      <th>Glazing_Area_Distribution</th>\n",
       "      <td>-7.107006e-16</td>\n",
       "      <td>2.438409e-15</td>\n",
       "      <td>2.067384e-16</td>\n",
       "      <td>-1.078071e-15</td>\n",
       "      <td>-2.920613e-17</td>\n",
       "      <td>-2.549352e-16</td>\n",
       "      <td>2.129642e-01</td>\n",
       "      <td>1.000000e+00</td>\n",
       "      <td>0.087368</td>\n",
       "      <td>0.050525</td>\n",
       "      <td>NaN</td>\n",
       "      <td>NaN</td>\n",
       "    </tr>\n",
       "    <tr>\n",
       "      <th>Heating_Load</th>\n",
       "      <td>6.222719e-01</td>\n",
       "      <td>-6.581199e-01</td>\n",
       "      <td>4.556714e-01</td>\n",
       "      <td>-8.618281e-01</td>\n",
       "      <td>8.894305e-01</td>\n",
       "      <td>-2.586763e-03</td>\n",
       "      <td>2.698417e-01</td>\n",
       "      <td>8.736846e-02</td>\n",
       "      <td>1.000000</td>\n",
       "      <td>0.975862</td>\n",
       "      <td>NaN</td>\n",
       "      <td>NaN</td>\n",
       "    </tr>\n",
       "    <tr>\n",
       "      <th>Cooling_Load</th>\n",
       "      <td>6.343391e-01</td>\n",
       "      <td>-6.729989e-01</td>\n",
       "      <td>4.271170e-01</td>\n",
       "      <td>-8.625466e-01</td>\n",
       "      <td>8.957852e-01</td>\n",
       "      <td>1.428960e-02</td>\n",
       "      <td>2.075050e-01</td>\n",
       "      <td>5.052512e-02</td>\n",
       "      <td>0.975862</td>\n",
       "      <td>1.000000</td>\n",
       "      <td>NaN</td>\n",
       "      <td>NaN</td>\n",
       "    </tr>\n",
       "    <tr>\n",
       "      <th>Unnamed: 10</th>\n",
       "      <td>NaN</td>\n",
       "      <td>NaN</td>\n",
       "      <td>NaN</td>\n",
       "      <td>NaN</td>\n",
       "      <td>NaN</td>\n",
       "      <td>NaN</td>\n",
       "      <td>NaN</td>\n",
       "      <td>NaN</td>\n",
       "      <td>NaN</td>\n",
       "      <td>NaN</td>\n",
       "      <td>NaN</td>\n",
       "      <td>NaN</td>\n",
       "    </tr>\n",
       "    <tr>\n",
       "      <th>Unnamed: 11</th>\n",
       "      <td>NaN</td>\n",
       "      <td>NaN</td>\n",
       "      <td>NaN</td>\n",
       "      <td>NaN</td>\n",
       "      <td>NaN</td>\n",
       "      <td>NaN</td>\n",
       "      <td>NaN</td>\n",
       "      <td>NaN</td>\n",
       "      <td>NaN</td>\n",
       "      <td>NaN</td>\n",
       "      <td>NaN</td>\n",
       "      <td>NaN</td>\n",
       "    </tr>\n",
       "  </tbody>\n",
       "</table>\n",
       "</div>"
      ],
      "text/plain": [
       "                           Relative_Compactness  Surface_Area     Wall_Area  \\\n",
       "Relative_Compactness               1.000000e+00 -9.919015e-01 -2.037817e-01   \n",
       "Surface_Area                      -9.919015e-01  1.000000e+00  1.955016e-01   \n",
       "Wall_Area                         -2.037817e-01  1.955016e-01  1.000000e+00   \n",
       "Roof_Area                         -8.688234e-01  8.807195e-01 -2.923165e-01   \n",
       "Overall_Height                     8.277473e-01 -8.581477e-01  2.809757e-01   \n",
       "Orientation                        4.678592e-17 -3.459372e-17 -2.429499e-17   \n",
       "Glazing_Area                      -2.960552e-15  3.636925e-15 -8.567455e-17   \n",
       "Glazing_Area_Distribution         -7.107006e-16  2.438409e-15  2.067384e-16   \n",
       "Heating_Load                       6.222719e-01 -6.581199e-01  4.556714e-01   \n",
       "Cooling_Load                       6.343391e-01 -6.729989e-01  4.271170e-01   \n",
       "Unnamed: 10                                 NaN           NaN           NaN   \n",
       "Unnamed: 11                                 NaN           NaN           NaN   \n",
       "\n",
       "                              Roof_Area  Overall_Height   Orientation  \\\n",
       "Relative_Compactness      -8.688234e-01    8.277473e-01  4.678592e-17   \n",
       "Surface_Area               8.807195e-01   -8.581477e-01 -3.459372e-17   \n",
       "Wall_Area                 -2.923165e-01    2.809757e-01 -2.429499e-17   \n",
       "Roof_Area                  1.000000e+00   -9.725122e-01 -5.830058e-17   \n",
       "Overall_Height            -9.725122e-01    1.000000e+00  4.492205e-17   \n",
       "Orientation               -5.830058e-17    4.492205e-17  1.000000e+00   \n",
       "Glazing_Area              -1.759011e-15    1.489134e-17 -9.406007e-16   \n",
       "Glazing_Area_Distribution -1.078071e-15   -2.920613e-17 -2.549352e-16   \n",
       "Heating_Load              -8.618281e-01    8.894305e-01 -2.586763e-03   \n",
       "Cooling_Load              -8.625466e-01    8.957852e-01  1.428960e-02   \n",
       "Unnamed: 10                         NaN             NaN           NaN   \n",
       "Unnamed: 11                         NaN             NaN           NaN   \n",
       "\n",
       "                           Glazing_Area  Glazing_Area_Distribution  \\\n",
       "Relative_Compactness      -2.960552e-15              -7.107006e-16   \n",
       "Surface_Area               3.636925e-15               2.438409e-15   \n",
       "Wall_Area                 -8.567455e-17               2.067384e-16   \n",
       "Roof_Area                 -1.759011e-15              -1.078071e-15   \n",
       "Overall_Height             1.489134e-17              -2.920613e-17   \n",
       "Orientation               -9.406007e-16              -2.549352e-16   \n",
       "Glazing_Area               1.000000e+00               2.129642e-01   \n",
       "Glazing_Area_Distribution  2.129642e-01               1.000000e+00   \n",
       "Heating_Load               2.698417e-01               8.736846e-02   \n",
       "Cooling_Load               2.075050e-01               5.052512e-02   \n",
       "Unnamed: 10                         NaN                        NaN   \n",
       "Unnamed: 11                         NaN                        NaN   \n",
       "\n",
       "                           Heating_Load  Cooling_Load  Unnamed: 10  \\\n",
       "Relative_Compactness           0.622272      0.634339          NaN   \n",
       "Surface_Area                  -0.658120     -0.672999          NaN   \n",
       "Wall_Area                      0.455671      0.427117          NaN   \n",
       "Roof_Area                     -0.861828     -0.862547          NaN   \n",
       "Overall_Height                 0.889430      0.895785          NaN   \n",
       "Orientation                   -0.002587      0.014290          NaN   \n",
       "Glazing_Area                   0.269842      0.207505          NaN   \n",
       "Glazing_Area_Distribution      0.087368      0.050525          NaN   \n",
       "Heating_Load                   1.000000      0.975862          NaN   \n",
       "Cooling_Load                   0.975862      1.000000          NaN   \n",
       "Unnamed: 10                         NaN           NaN          NaN   \n",
       "Unnamed: 11                         NaN           NaN          NaN   \n",
       "\n",
       "                           Unnamed: 11  \n",
       "Relative_Compactness               NaN  \n",
       "Surface_Area                       NaN  \n",
       "Wall_Area                          NaN  \n",
       "Roof_Area                          NaN  \n",
       "Overall_Height                     NaN  \n",
       "Orientation                        NaN  \n",
       "Glazing_Area                       NaN  \n",
       "Glazing_Area_Distribution          NaN  \n",
       "Heating_Load                       NaN  \n",
       "Cooling_Load                       NaN  \n",
       "Unnamed: 10                        NaN  \n",
       "Unnamed: 11                        NaN  "
      ]
     },
     "execution_count": 9,
     "metadata": {},
     "output_type": "execute_result"
    }
   ],
   "source": [
    "df.corr()"
   ]
  },
  {
   "cell_type": "code",
   "execution_count": 10,
   "id": "512c7ed3",
   "metadata": {},
   "outputs": [
    {
     "data": {
      "text/plain": [
       "<AxesSubplot:xlabel='Relative_Compactness', ylabel='Cooling_Load'>"
      ]
     },
     "execution_count": 10,
     "metadata": {},
     "output_type": "execute_result"
    },
    {
     "data": {
      "image/png": "[encoded data removed]",
      "text/plain": [
       "<Figure size 432x288 with 1 Axes>"
      ]
     },
     "metadata": {
      "needs_background": "light"
     },
     "output_type": "display_data"
    }
   ],
   "source": [
    "import seaborn as sns\n",
    "df=df.rename(columns=column_names)\n",
    "#select a sample of the dataset\n",
    "simple_linear_reg_df = df[['Relative_Compactness' , 'Cooling_Load']].sample(15, random_state= 2)\n",
    "\n",
    "import seaborn as sns\n",
    "#regression plot\n",
    "sns.regplot(x=\"Relative_Compactness\",y=\"Cooling_Load\",data=simple_linear_reg_df)\n",
    "#RSS -residual sum of squares--loss\n",
    "#line of best fit is gotten by uusing ordinary least square method\n",
    "#Algorithms - Gradient descedent"
   ]
  },
  {
   "cell_type": "code",
   "execution_count": 11,
   "id": "c441f4e5",
   "metadata": {},
   "outputs": [
    {
     "data": {
      "text/plain": [
       "<AxesSubplot:>"
      ]
     },
     "execution_count": 11,
     "metadata": {},
     "output_type": "execute_result"
    },
    {
     "data": {
      "image/png": "[encoded data removed]",
      "text/plain": [
       "<Figure size 432x288 with 2 Axes>"
      ]
     },
     "metadata": {
      "needs_background": "light"
     },
     "output_type": "display_data"
    }
   ],
   "source": [
    "sns.heatmap(df.corr(),annot=True)"
   ]
  },
  {
   "cell_type": "code",
   "execution_count": 12,
   "id": "38404aac",
   "metadata": {},
   "outputs": [
    {
     "data": {
      "text/plain": [
       "<AxesSubplot:xlabel='Relative_Compactness', ylabel='Cooling_Load'>"
      ]
     },
     "execution_count": 12,
     "metadata": {},
     "output_type": "execute_result"
    },
    {
     "data": {
      "image/png": "[encoded data removed]",
      "text/plain": [
       "<Figure size 432x288 with 1 Axes>"
      ]
     },
     "metadata": {
      "needs_background": "light"
     },
     "output_type": "display_data"
    }
   ],
   "source": [
    "import seaborn as sns\n",
    "#scatter plot\n",
    "sns.scatterplot(x=\"Relative_Compactness\",y=\"Cooling_Load\",data=simple_linear_reg_df)\n",
    "#RSS -residual sum of squares--loss\n",
    "#line of best fit is gotten by uusing ordinary least square method\n",
    "#Algorithms - Gradient descedent"
   ]
  },
  {
   "cell_type": "code",
   "execution_count": 13,
   "id": "456321b3",
   "metadata": {},
   "outputs": [
    {
     "data": {
      "text/plain": [
       "Overall_Height\n",
       "3.5    13.338505\n",
       "7.0    31.275885\n",
       "Name: Heating_Load, dtype: float64"
      ]
     },
     "execution_count": 13,
     "metadata": {},
     "output_type": "execute_result"
    }
   ],
   "source": [
    "df=df.drop(\"Cooling_Load\",axis=1)\n",
    "df.groupby(\"Overall_Height\")[\"Heating_Load\"].mean()"
   ]
  },
  {
   "cell_type": "code",
   "execution_count": 14,
   "id": "e998e259",
   "metadata": {},
   "outputs": [
    {
     "data": {
      "text/plain": [
       "<AxesSubplot:xlabel='Orientation'>"
      ]
     },
     "execution_count": 14,
     "metadata": {},
     "output_type": "execute_result"
    },
    {
     "data": {
      "image/png": "[encoded data removed]",
      "text/plain": [
       "<Figure size 432x288 with 1 Axes>"
      ]
     },
     "metadata": {
      "needs_background": "light"
     },
     "output_type": "display_data"
    }
   ],
   "source": [
    "df.groupby(\"Orientation\")[\"Heating_Load\"].mean().plot.bar()"
   ]
  },
  {
   "cell_type": "code",
   "execution_count": 15,
   "id": "3d8e17d7",
   "metadata": {},
   "outputs": [
    {
     "name": "stdout",
     "output_type": "stream",
     "text": [
      "(15, 2)\n"
     ]
    }
   ],
   "source": [
    "print(simple_linear_reg_df.shape)"
   ]
  },
  {
   "cell_type": "code",
   "execution_count": 16,
   "id": "ed5fa094",
   "metadata": {},
   "outputs": [
    {
     "data": {
      "text/plain": [
       "<AxesSubplot:xlabel='Roof_Area'>"
      ]
     },
     "execution_count": 16,
     "metadata": {},
     "output_type": "execute_result"
    },
    {
     "data": {
      "image/png": "[encoded data removed]",
      "text/plain": [
       "<Figure size 432x288 with 1 Axes>"
      ]
     },
     "metadata": {
      "needs_background": "light"
     },
     "output_type": "display_data"
    }
   ],
   "source": [
    "df.groupby(\"Roof_Area\")[\"Heating_Load\"].mean().plot.bar()"
   ]
  },
  {
   "cell_type": "code",
   "execution_count": 19,
   "id": "9a1f2149",
   "metadata": {},
   "outputs": [
    {
     "data": {
      "text/plain": [
       "<AxesSubplot:xlabel='Surface_Area'>"
      ]
     },
     "execution_count": 19,
     "metadata": {},
     "output_type": "execute_result"
    },
    {
     "data": {
      "image/png": "[encoded data removed]",
      "text/plain": [
       "<Figure size 432x288 with 1 Axes>"
      ]
     },
     "metadata": {
      "needs_background": "light"
     },
     "output_type": "display_data"
    }
   ],
   "source": [
    "df.groupby(\"Surface_Area\")[\"Heating_Load\"].mean().plot.bar()"
   ]
  },
  {
   "cell_type": "code",
   "execution_count": 21,
   "id": "9855508c",
   "metadata": {},
   "outputs": [
    {
     "data": {
      "text/plain": [
       "<AxesSubplot:xlabel='Roof_Area'>"
      ]
     },
     "execution_count": 21,
     "metadata": {},
     "output_type": "execute_result"
    },
    {
     "data": {
      "image/png": "[encoded data removed]",
      "text/plain": [
       "<Figure size 432x288 with 1 Axes>"
      ]
     },
     "metadata": {
      "needs_background": "light"
     },
     "output_type": "display_data"
    }
   ],
   "source": [
    "df.groupby(\"Roof_Area\")[\"Heating_Load\"].mean().plot.bar()"
   ]
  },
  {
   "cell_type": "code",
   "execution_count": 20,
   "id": "4ae99ec7",
   "metadata": {},
   "outputs": [
    {
     "data": {
      "text/plain": [
       "<AxesSubplot:xlabel='Glazing_Area_Distribution'>"
      ]
     },
     "execution_count": 20,
     "metadata": {},
     "output_type": "execute_result"
    },
    {
     "data": {
      "image/png": "[encoded data removed]",
      "text/plain": [
       "<Figure size 432x288 with 1 Axes>"
      ]
     },
     "metadata": {
      "needs_background": "light"
     },
     "output_type": "display_data"
    }
   ],
   "source": [
    "df.groupby(\"Glazing_Area_Distribution\")[\"Heating_Load\"].mean().plot.bar()"
   ]
  },
  {
   "cell_type": "code",
   "execution_count": 22,
   "id": "14285e5e",
   "metadata": {},
   "outputs": [
    {
     "data": {
      "text/plain": [
       "<AxesSubplot:xlabel='Wall_Area'>"
      ]
     },
     "execution_count": 22,
     "metadata": {},
     "output_type": "execute_result"
    },
    {
     "data": {
      "image/png": "[encoded data removed]",
      "text/plain": [
       "<Figure size 432x288 with 1 Axes>"
      ]
     },
     "metadata": {
      "needs_background": "light"
     },
     "output_type": "display_data"
    }
   ],
   "source": [
    "df.groupby(\"Wall_Area\")[\"Heating_Load\"].mean().plot.bar()"
   ]
  },
  {
   "cell_type": "code",
   "execution_count": 23,
   "id": "adb81dbd",
   "metadata": {},
   "outputs": [
    {
     "data": {
      "text/plain": [
       "<AxesSubplot:xlabel='Overall_Height'>"
      ]
     },
     "execution_count": 23,
     "metadata": {},
     "output_type": "execute_result"
    },
    {
     "data": {
      "image/png": "[encoded data removed]",
      "text/plain": [
       "<Figure size 432x288 with 1 Axes>"
      ]
     },
     "metadata": {
      "needs_background": "light"
     },
     "output_type": "display_data"
    }
   ],
   "source": [
    "df.groupby(\"Overall_Height\")[\"Heating_Load\"].mean().plot.bar()"
   ]
  },
  {
   "cell_type": "code",
   "execution_count": 24,
   "id": "178c3ca3",
   "metadata": {},
   "outputs": [
    {
     "data": {
      "text/plain": [
       "587"
      ]
     },
     "execution_count": 24,
     "metadata": {},
     "output_type": "execute_result"
    }
   ],
   "source": [
    "len(df[\"Heating_Load\"].unique())"
   ]
  },
  {
   "cell_type": "code",
   "execution_count": 25,
   "id": "45d84f89",
   "metadata": {},
   "outputs": [
    {
     "data": {
      "text/plain": [
       "2"
      ]
     },
     "execution_count": 25,
     "metadata": {},
     "output_type": "execute_result"
    }
   ],
   "source": [
    "len(df[\"Overall_Height\"].unique())"
   ]
  },
  {
   "cell_type": "code",
   "execution_count": 27,
   "id": "253fcda6",
   "metadata": {},
   "outputs": [
    {
     "data": {
      "text/plain": [
       "7"
      ]
     },
     "execution_count": 27,
     "metadata": {},
     "output_type": "execute_result"
    }
   ],
   "source": [
    "len(df[\"Wall_Area\"].unique())"
   ]
  },
  {
   "cell_type": "code",
   "execution_count": 28,
   "id": "caf6f3bb",
   "metadata": {},
   "outputs": [
    {
     "data": {
      "text/plain": [
       "6"
      ]
     },
     "execution_count": 28,
     "metadata": {},
     "output_type": "execute_result"
    }
   ],
   "source": [
    "len(df[\"Glazing_Area_Distribution\"].unique())"
   ]
  },
  {
   "cell_type": "code",
   "execution_count": 29,
   "id": "dfe0b9a6",
   "metadata": {},
   "outputs": [
    {
     "data": {
      "text/plain": [
       "12"
      ]
     },
     "execution_count": 29,
     "metadata": {},
     "output_type": "execute_result"
    }
   ],
   "source": [
    "len(df[\"Surface_Area\"].unique())"
   ]
  },
  {
   "cell_type": "code",
   "execution_count": 30,
   "id": "7d865de8",
   "metadata": {},
   "outputs": [
    {
     "data": {
      "text/plain": [
       "4"
      ]
     },
     "execution_count": 30,
     "metadata": {},
     "output_type": "execute_result"
    }
   ],
   "source": [
    "len(df[\"Orientation\"].unique())"
   ]
  },
  {
   "cell_type": "code",
   "execution_count": 31,
   "id": "20f481ee",
   "metadata": {},
   "outputs": [
    {
     "data": {
      "text/plain": [
       "<AxesSubplot:xlabel='Relative_Compactness', ylabel='Count'>"
      ]
     },
     "execution_count": 31,
     "metadata": {},
     "output_type": "execute_result"
    },
    {
     "data": {
      "image/png": "[encoded data removed]",
      "text/plain": [
       "<Figure size 432x288 with 1 Axes>"
      ]
     },
     "metadata": {
      "needs_background": "light"
     },
     "output_type": "display_data"
    }
   ],
   "source": [
    "sns.histplot(df[\"Relative_Compactness\"])"
   ]
  },
  {
   "cell_type": "code",
   "execution_count": 32,
   "id": "a0ad2d78",
   "metadata": {},
   "outputs": [
    {
     "data": {
      "text/plain": [
       "12"
      ]
     },
     "execution_count": 32,
     "metadata": {},
     "output_type": "execute_result"
    }
   ],
   "source": [
    "len(df[\"Relative_Compactness\"].unique())"
   ]
  },
  {
   "cell_type": "code",
   "execution_count": 33,
   "id": "6ee81d68",
   "metadata": {},
   "outputs": [
    {
     "data": {
      "text/plain": [
       "array([110.25, 122.5 , 147.  , 220.5 ])"
      ]
     },
     "execution_count": 33,
     "metadata": {},
     "output_type": "execute_result"
    }
   ],
   "source": [
    "df[\"Roof_Area\"].unique()"
   ]
  },
  {
   "cell_type": "code",
   "execution_count": 34,
   "id": "769d0623",
   "metadata": {},
   "outputs": [
    {
     "data": {
      "text/plain": [
       "array([294. , 318.5, 343. , 416.5, 245. , 269.5, 367.5])"
      ]
     },
     "execution_count": 34,
     "metadata": {},
     "output_type": "execute_result"
    }
   ],
   "source": [
    "df[\"Wall_Area\"].unique()"
   ]
  },
  {
   "cell_type": "code",
   "execution_count": 36,
   "id": "969e5ce2",
   "metadata": {},
   "outputs": [
    {
     "data": {
      "text/plain": [
       "array([15.55 , 20.84 , 21.46 , 20.71 , 19.68 , 19.5  , 19.95 , 19.34 ,\n",
       "       18.31 , 17.05 , 17.41 , 16.95 , 15.98 , 28.52 , 29.9  , 29.63 ,\n",
       "       28.75 , 24.77 , 23.93 ,  6.07 ,  6.05 ,  6.01 ,  6.04 ,  6.37 ,\n",
       "        6.4  ,  6.366,  6.85 ,  6.79 ,  6.77 ,  6.81 ,  7.18 ,  7.1  ,\n",
       "       10.85 , 10.54 , 10.77 , 10.56 ,  8.6  ,  8.49 ,  8.45 ,  8.5  ,\n",
       "       24.58 , 24.63 , 24.59 , 29.03 , 29.87 , 29.14 , 28.09 , 26.28 ,\n",
       "       26.91 , 26.37 , 25.27 , 23.53 , 24.03 , 23.54 , 22.58 , 35.56 ,\n",
       "       37.12 , 36.9  , 35.94 , 32.96 , 32.12 , 32.94 , 32.21 , 10.36 ,\n",
       "       10.43 , 10.39 , 10.71 , 10.8  , 10.7  , 10.75 , 11.11 , 11.13 ,\n",
       "       11.09 , 11.16 , 11.68 , 11.69 , 11.7  , 15.41 , 15.2  , 15.42 ,\n",
       "       15.21 , 12.96 , 12.97 , 12.93 , 13.02 , 24.29 , 24.31 , 24.13 ,\n",
       "       24.25 , 28.88 , 29.68 , 28.83 , 27.9  , 26.48 , 27.02 , 26.33 ,\n",
       "       25.36 , 23.75 , 24.23 , 23.67 , 22.79 , 35.65 , 37.26 , 36.97 ,\n",
       "       36.03 , 33.16 , 32.4  , 33.12 , 32.41 , 10.42 , 10.46 , 10.32 ,\n",
       "       10.45 , 10.64 , 10.72 , 10.55 , 10.68 , 11.45 , 11.46 , 11.32 ,\n",
       "       11.49 , 11.42 , 11.33 , 11.43 , 15.18 , 15.34 , 15.19 , 12.88 ,\n",
       "       13.   , 13.04 , 24.28 , 24.4  , 24.11 , 24.35 , 28.07 , 29.01 ,\n",
       "       29.62 , 29.05 , 25.41 , 26.47 , 26.89 , 26.46 , 22.93 , 23.84 ,\n",
       "       24.17 , 23.87 , 35.78 , 35.48 , 36.7  , 32.52 , 33.28 , 32.33 ,\n",
       "       33.24 , 10.34 , 10.35 , 10.38 , 11.22 , 11.1  , 11.14 , 11.59 ,\n",
       "       11.6  , 11.53 , 11.61 , 15.16 , 15.36 , 15.12 , 12.68 , 12.63 ,\n",
       "       12.71 , 12.73 , 24.38 , 24.04 , 24.32 , 29.06 , 28.05 , 28.86 ,\n",
       "       29.79 , 26.44 , 25.37 , 27.03 , 23.8  , 22.8  , 23.59 , 24.24 ,\n",
       "       36.86 , 35.89 , 35.45 , 37.1  , 33.08 , 32.38 , 33.09 , 32.31 ,\n",
       "       10.08 , 10.15 , 10.07 , 10.14 , 10.66 , 10.53 , 11.18 , 11.07 ,\n",
       "       11.2  , 11.44 , 15.4  , 15.32 , 12.85 , 24.33 , 24.26 , 29.83 ,\n",
       "       29.08 , 28.03 , 29.02 , 26.45 , 24.37 , 23.89 , 22.89 , 23.86 ,\n",
       "       37.03 , 36.71 , 36.77 , 33.21 , 32.46 , 33.27 , 10.47 , 10.37 ,\n",
       "       10.78 , 10.67 , 13.69 , 11.21 , 11.38 , 11.34 , 15.37 , 12.59 ,\n",
       "       12.74 , 12.8  , 12.62 , 28.15 , 28.37 , 28.41 , 32.68 , 33.48 ,\n",
       "       32.84 , 32.   , 29.54 , 30.05 , 29.6  , 28.66 , 26.84 , 27.27 ,\n",
       "       26.97 , 26.19 , 38.67 , 40.03 , 39.86 , 39.04 , 36.96 , 36.13 ,\n",
       "       36.91 , 36.43 , 12.43 , 12.5  , 12.41 , 12.45 , 12.57 , 12.65 ,\n",
       "       12.78 , 12.72 , 13.17 , 13.18 , 17.5  , 17.35 , 17.52 , 17.37 ,\n",
       "       15.09 , 15.08 , 28.67 , 28.57 , 28.18 , 28.6  , 31.66 , 29.34 ,\n",
       "       29.27 , 28.4  , 25.74 , 25.98 , 25.38 , 24.94 , 38.57 , 40.19 ,\n",
       "       39.97 , 38.98 , 36.95 , 36.28 , 36.45 , 12.35 , 12.16 , 12.3  ,\n",
       "       12.33 , 12.29 , 12.2  , 12.49 , 12.87 , 12.95 , 13.05 , 12.77 ,\n",
       "       17.14 , 16.84 , 17.02 , 17.11 , 14.34 , 14.66 , 14.6  , 28.56 ,\n",
       "       28.17 , 28.63 , 31.63 , 32.29 , 29.4  , 29.43 , 29.07 , 24.7  ,\n",
       "       25.48 , 25.17 , 38.35 , 39.81 , 39.83 , 35.99 , 36.59 , 35.64 ,\n",
       "       36.52 , 11.8  , 12.03 , 11.98 , 12.28 , 12.1  , 12.19 , 12.34 ,\n",
       "       12.46 , 12.31 , 12.12 , 13.01 , 12.84 , 16.83 , 16.93 , 16.66 ,\n",
       "       16.86 , 13.91 , 13.95 , 13.99 , 28.7  , 28.55 , 28.62 , 32.67 ,\n",
       "       31.69 , 32.07 , 29.47 , 28.42 , 29.88 , 25.66 , 24.96 , 25.43 ,\n",
       "       26.   , 40.   , 38.84 , 38.33 , 40.12 , 36.81 , 36.26 , 12.32 ,\n",
       "       12.18 , 12.36 , 12.17 , 12.91 , 12.67 , 12.86 , 12.92 , 16.99 ,\n",
       "       16.69 , 16.56 , 16.62 , 14.33 , 14.61 , 14.65 , 28.69 , 28.58 ,\n",
       "       28.61 , 33.13 , 31.53 , 29.71 , 29.09 , 28.31 , 29.39 , 25.7  ,\n",
       "       24.6  , 25.49 , 39.89 , 39.01 , 38.65 , 35.69 , 36.64 , 36.06 ,\n",
       "       11.67 , 11.64 , 12.02 , 12.27 , 12.25 , 12.47 , 12.82 , 16.73 ,\n",
       "       16.76 , 16.92 , 13.68 , 14.16 , 13.86 , 32.26 , 32.49 , 32.53 ,\n",
       "       36.47 , 37.24 , 36.66 , 35.96 , 31.89 , 32.39 , 32.09 , 31.29 ,\n",
       "       29.22 , 29.91 , 29.53 , 28.65 , 41.4  , 42.62 , 42.5  , 41.67 ,\n",
       "       40.78 , 40.71 , 40.43 , 14.52 , 14.5  , 14.55 , 14.51 , 14.58 ,\n",
       "       14.7  , 14.42 , 15.23 , 19.52 , 19.36 , 19.48 , 19.42 , 17.17 ,\n",
       "       32.82 , 32.71 , 32.24 , 32.72 , 35.84 , 36.57 , 32.48 , 32.74 ,\n",
       "       32.13 , 31.64 , 28.95 , 29.49 , 28.64 , 28.01 , 41.64 , 43.1  ,\n",
       "       42.74 , 41.92 , 40.15 , 40.57 , 40.42 , 14.54 , 14.45 , 14.18 ,\n",
       "       14.4  , 14.71 , 14.75 , 14.62 , 15.29 , 15.3  , 19.2  , 18.88 ,\n",
       "       18.9  , 19.12 , 17.23 , 17.26 , 17.15 , 32.69 , 32.23 , 32.75 ,\n",
       "       34.24 , 34.95 , 35.05 , 34.29 , 31.28 , 32.05 , 31.84 , 29.67 ,\n",
       "       28.91 , 41.26 , 41.3  , 42.49 , 42.08 , 39.32 , 39.84 , 38.89 ,\n",
       "       39.68 , 13.97 , 14.22 , 14.1  , 13.78 , 14.07 , 14.03 , 13.94 ,\n",
       "       14.32 , 14.56 , 14.08 , 14.72 , 14.9  , 18.48 , 18.71 , 18.46 ,\n",
       "       16.47 , 16.35 , 16.55 , 16.74 , 32.85 , 35.73 , 35.4  , 32.15 ,\n",
       "       28.93 , 29.52 , 42.77 , 41.73 , 41.32 , 42.96 , 40.68 , 40.4  ,\n",
       "       40.6  , 40.11 , 14.37 , 14.48 , 14.44 , 14.47 , 14.53 , 19.06 ,\n",
       "       19.13 , 19.   , 18.84 , 16.44 , 16.9  , 16.94 , 16.77 , 32.73 ,\n",
       "       35.67 , 35.01 , 34.72 , 35.24 , 31.81 , 31.12 , 32.06 , 30.   ,\n",
       "       29.5  , 29.92 , 42.11 , 41.96 , 41.09 , 40.79 , 38.82 , 39.72 ,\n",
       "       39.31 , 14.41 , 14.19 , 14.17 , 14.39 , 12.76 , 12.42 , 14.12 ,\n",
       "       14.28 , 14.21 , 14.96 , 14.92 , 17.69 , 18.19 , 18.16 , 17.88 ,\n",
       "       16.54 , 16.48 , 16.64 ])"
      ]
     },
     "execution_count": 36,
     "metadata": {},
     "output_type": "execute_result"
    }
   ],
   "source": [
    "df[\"Heating_Load\"].unique()"
   ]
  },
  {
   "cell_type": "code",
   "execution_count": 38,
   "id": "12b564e8",
   "metadata": {},
   "outputs": [
    {
     "data": {
      "text/plain": [
       "array([2, 3, 4, 5], dtype=int64)"
      ]
     },
     "execution_count": 38,
     "metadata": {},
     "output_type": "execute_result"
    }
   ],
   "source": [
    "df[\"Orientation\"].unique()"
   ]
  },
  {
   "cell_type": "code",
   "execution_count": 39,
   "id": "8efe177d",
   "metadata": {},
   "outputs": [
    {
     "data": {
      "text/plain": [
       "array([514.5, 563.5, 588. , 612.5, 637. , 661.5, 686. , 710.5, 735. ,\n",
       "       759.5, 784. , 808.5])"
      ]
     },
     "execution_count": 39,
     "metadata": {},
     "output_type": "execute_result"
    }
   ],
   "source": [
    "df[\"Surface_Area\"].unique()"
   ]
  },
  {
   "cell_type": "code",
   "execution_count": 42,
   "id": "8adb521f",
   "metadata": {},
   "outputs": [
    {
     "data": {
      "text/plain": [
       "array([7. , 3.5])"
      ]
     },
     "execution_count": 42,
     "metadata": {},
     "output_type": "execute_result"
    }
   ],
   "source": [
    "df[\"Overall_Height\"].unique()"
   ]
  },
  {
   "cell_type": "code",
   "execution_count": 43,
   "id": "1fcfb346",
   "metadata": {},
   "outputs": [
    {
     "data": {
      "text/plain": [
       "array([0, 1, 2, 3, 4, 5], dtype=int64)"
      ]
     },
     "execution_count": 43,
     "metadata": {},
     "output_type": "execute_result"
    }
   ],
   "source": [
    "df[\"Glazing_Area_Distribution\"].unique()"
   ]
  },
  {
   "cell_type": "code",
   "execution_count": 52,
   "id": "13f34955",
   "metadata": {},
   "outputs": [
    {
     "data": {
      "text/html": [
       "<div>\n",
       "<style scoped>\n",
       "    .dataframe tbody tr th:only-of-type {\n",
       "        vertical-align: middle;\n",
       "    }\n",
       "\n",
       "    .dataframe tbody tr th {\n",
       "        vertical-align: top;\n",
       "    }\n",
       "\n",
       "    .dataframe thead th {\n",
       "        text-align: right;\n",
       "    }\n",
       "</style>\n",
       "<table border=\"1\" class=\"dataframe\">\n",
       "  <thead>\n",
       "    <tr style=\"text-align: right;\">\n",
       "      <th></th>\n",
       "      <th>Relative_Compactness</th>\n",
       "      <th>Surface_Area</th>\n",
       "      <th>Wall_Area</th>\n",
       "      <th>Roof_Area</th>\n",
       "      <th>Overall_Height</th>\n",
       "      <th>Orientation</th>\n",
       "      <th>Glazing_Area</th>\n",
       "      <th>Glazing_Area_Distribution</th>\n",
       "      <th>Heating_Load</th>\n",
       "      <th>Unnamed: 10</th>\n",
       "      <th>Unnamed: 11</th>\n",
       "    </tr>\n",
       "  </thead>\n",
       "  <tbody>\n",
       "    <tr>\n",
       "      <th>763</th>\n",
       "      <td>0.64</td>\n",
       "      <td>784.0</td>\n",
       "      <td>343.0</td>\n",
       "      <td>220.5</td>\n",
       "      <td>3.5</td>\n",
       "      <td>5</td>\n",
       "      <td>0.4</td>\n",
       "      <td>5</td>\n",
       "      <td>17.88</td>\n",
       "      <td>NaN</td>\n",
       "      <td>NaN</td>\n",
       "    </tr>\n",
       "    <tr>\n",
       "      <th>764</th>\n",
       "      <td>0.62</td>\n",
       "      <td>808.5</td>\n",
       "      <td>367.5</td>\n",
       "      <td>220.5</td>\n",
       "      <td>3.5</td>\n",
       "      <td>2</td>\n",
       "      <td>0.4</td>\n",
       "      <td>5</td>\n",
       "      <td>16.54</td>\n",
       "      <td>NaN</td>\n",
       "      <td>NaN</td>\n",
       "    </tr>\n",
       "    <tr>\n",
       "      <th>765</th>\n",
       "      <td>0.62</td>\n",
       "      <td>808.5</td>\n",
       "      <td>367.5</td>\n",
       "      <td>220.5</td>\n",
       "      <td>3.5</td>\n",
       "      <td>3</td>\n",
       "      <td>0.4</td>\n",
       "      <td>5</td>\n",
       "      <td>16.44</td>\n",
       "      <td>NaN</td>\n",
       "      <td>NaN</td>\n",
       "    </tr>\n",
       "    <tr>\n",
       "      <th>766</th>\n",
       "      <td>0.62</td>\n",
       "      <td>808.5</td>\n",
       "      <td>367.5</td>\n",
       "      <td>220.5</td>\n",
       "      <td>3.5</td>\n",
       "      <td>4</td>\n",
       "      <td>0.4</td>\n",
       "      <td>5</td>\n",
       "      <td>16.48</td>\n",
       "      <td>NaN</td>\n",
       "      <td>NaN</td>\n",
       "    </tr>\n",
       "    <tr>\n",
       "      <th>767</th>\n",
       "      <td>0.62</td>\n",
       "      <td>808.5</td>\n",
       "      <td>367.5</td>\n",
       "      <td>220.5</td>\n",
       "      <td>3.5</td>\n",
       "      <td>5</td>\n",
       "      <td>0.4</td>\n",
       "      <td>5</td>\n",
       "      <td>16.64</td>\n",
       "      <td>NaN</td>\n",
       "      <td>NaN</td>\n",
       "    </tr>\n",
       "  </tbody>\n",
       "</table>\n",
       "</div>"
      ],
      "text/plain": [
       "     Relative_Compactness  Surface_Area  Wall_Area  Roof_Area  Overall_Height  \\\n",
       "763                  0.64         784.0      343.0      220.5             3.5   \n",
       "764                  0.62         808.5      367.5      220.5             3.5   \n",
       "765                  0.62         808.5      367.5      220.5             3.5   \n",
       "766                  0.62         808.5      367.5      220.5             3.5   \n",
       "767                  0.62         808.5      367.5      220.5             3.5   \n",
       "\n",
       "     Orientation  Glazing_Area  Glazing_Area_Distribution  Heating_Load  \\\n",
       "763            5           0.4                          5         17.88   \n",
       "764            2           0.4                          5         16.54   \n",
       "765            3           0.4                          5         16.44   \n",
       "766            4           0.4                          5         16.48   \n",
       "767            5           0.4                          5         16.64   \n",
       "\n",
       "     Unnamed: 10  Unnamed: 11  \n",
       "763          NaN          NaN  \n",
       "764          NaN          NaN  \n",
       "765          NaN          NaN  \n",
       "766          NaN          NaN  \n",
       "767          NaN          NaN  "
      ]
     },
     "execution_count": 52,
     "metadata": {},
     "output_type": "execute_result"
    }
   ],
   "source": [
    "df.tail()\n"
   ]
  },
  {
   "cell_type": "code",
   "execution_count": 93,
   "id": "13360425",
   "metadata": {},
   "outputs": [
    {
     "data": {
      "text/plain": [
       "Relative_Compactness           0.98\n",
       "Surface_Area                 808.50\n",
       "Wall_Area                    416.50\n",
       "Roof_Area                    220.50\n",
       "Overall_Height                 7.00\n",
       "Orientation                    5.00\n",
       "Glazing_Area                   0.40\n",
       "Glazing_Area_Distribution      5.00\n",
       "Unnamed: 10                     NaN\n",
       "Unnamed: 11                     NaN\n",
       "dtype: float64"
      ]
     },
     "execution_count": 93,
     "metadata": {},
     "output_type": "execute_result"
    }
   ],
   "source": [
    "df.max()"
   ]
  },
  {
   "cell_type": "code",
   "execution_count": 105,
   "id": "38a77da9",
   "metadata": {},
   "outputs": [
    {
     "data": {
      "text/html": [
       "<div>\n",
       "<style scoped>\n",
       "    .dataframe tbody tr th:only-of-type {\n",
       "        vertical-align: middle;\n",
       "    }\n",
       "\n",
       "    .dataframe tbody tr th {\n",
       "        vertical-align: top;\n",
       "    }\n",
       "\n",
       "    .dataframe thead th {\n",
       "        text-align: right;\n",
       "    }\n",
       "</style>\n",
       "<table border=\"1\" class=\"dataframe\">\n",
       "  <thead>\n",
       "    <tr style=\"text-align: right;\">\n",
       "      <th></th>\n",
       "      <th>Relative_Compactness</th>\n",
       "      <th>Surface_Area</th>\n",
       "      <th>Wall_Area</th>\n",
       "      <th>Roof_Area</th>\n",
       "      <th>Overall_Height</th>\n",
       "      <th>Orientation</th>\n",
       "      <th>Glazing_Area</th>\n",
       "      <th>Glazing_Area_Distribution</th>\n",
       "      <th>Unnamed: 10</th>\n",
       "      <th>Unnamed: 11</th>\n",
       "    </tr>\n",
       "  </thead>\n",
       "  <tbody>\n",
       "    <tr>\n",
       "      <th>763</th>\n",
       "      <td>0.64</td>\n",
       "      <td>784.0</td>\n",
       "      <td>343.0</td>\n",
       "      <td>220.5</td>\n",
       "      <td>3.5</td>\n",
       "      <td>5</td>\n",
       "      <td>0.4</td>\n",
       "      <td>5</td>\n",
       "      <td>NaN</td>\n",
       "      <td>NaN</td>\n",
       "    </tr>\n",
       "    <tr>\n",
       "      <th>764</th>\n",
       "      <td>0.62</td>\n",
       "      <td>808.5</td>\n",
       "      <td>367.5</td>\n",
       "      <td>220.5</td>\n",
       "      <td>3.5</td>\n",
       "      <td>2</td>\n",
       "      <td>0.4</td>\n",
       "      <td>5</td>\n",
       "      <td>NaN</td>\n",
       "      <td>NaN</td>\n",
       "    </tr>\n",
       "    <tr>\n",
       "      <th>765</th>\n",
       "      <td>0.62</td>\n",
       "      <td>808.5</td>\n",
       "      <td>367.5</td>\n",
       "      <td>220.5</td>\n",
       "      <td>3.5</td>\n",
       "      <td>3</td>\n",
       "      <td>0.4</td>\n",
       "      <td>5</td>\n",
       "      <td>NaN</td>\n",
       "      <td>NaN</td>\n",
       "    </tr>\n",
       "    <tr>\n",
       "      <th>766</th>\n",
       "      <td>0.62</td>\n",
       "      <td>808.5</td>\n",
       "      <td>367.5</td>\n",
       "      <td>220.5</td>\n",
       "      <td>3.5</td>\n",
       "      <td>4</td>\n",
       "      <td>0.4</td>\n",
       "      <td>5</td>\n",
       "      <td>NaN</td>\n",
       "      <td>NaN</td>\n",
       "    </tr>\n",
       "    <tr>\n",
       "      <th>767</th>\n",
       "      <td>0.62</td>\n",
       "      <td>808.5</td>\n",
       "      <td>367.5</td>\n",
       "      <td>220.5</td>\n",
       "      <td>3.5</td>\n",
       "      <td>5</td>\n",
       "      <td>0.4</td>\n",
       "      <td>5</td>\n",
       "      <td>NaN</td>\n",
       "      <td>NaN</td>\n",
       "    </tr>\n",
       "  </tbody>\n",
       "</table>\n",
       "</div>"
      ],
      "text/plain": [
       "     Relative_Compactness  Surface_Area  Wall_Area  Roof_Area  Overall_Height  \\\n",
       "763                  0.64         784.0      343.0      220.5             3.5   \n",
       "764                  0.62         808.5      367.5      220.5             3.5   \n",
       "765                  0.62         808.5      367.5      220.5             3.5   \n",
       "766                  0.62         808.5      367.5      220.5             3.5   \n",
       "767                  0.62         808.5      367.5      220.5             3.5   \n",
       "\n",
       "     Orientation  Glazing_Area  Glazing_Area_Distribution  Unnamed: 10  \\\n",
       "763            5           0.4                          5          NaN   \n",
       "764            2           0.4                          5          NaN   \n",
       "765            3           0.4                          5          NaN   \n",
       "766            4           0.4                          5          NaN   \n",
       "767            5           0.4                          5          NaN   \n",
       "\n",
       "     Unnamed: 11  \n",
       "763          NaN  \n",
       "764          NaN  \n",
       "765          NaN  \n",
       "766          NaN  \n",
       "767          NaN  "
      ]
     },
     "execution_count": 105,
     "metadata": {},
     "output_type": "execute_result"
    }
   ],
   "source": [
    "df.tail()"
   ]
  },
  {
   "cell_type": "code",
   "execution_count": 87,
   "id": "856fc365",
   "metadata": {},
   "outputs": [
    {
     "data": {
      "text/html": [
       "<div>\n",
       "<style scoped>\n",
       "    .dataframe tbody tr th:only-of-type {\n",
       "        vertical-align: middle;\n",
       "    }\n",
       "\n",
       "    .dataframe tbody tr th {\n",
       "        vertical-align: top;\n",
       "    }\n",
       "\n",
       "    .dataframe thead th {\n",
       "        text-align: right;\n",
       "    }\n",
       "</style>\n",
       "<table border=\"1\" class=\"dataframe\">\n",
       "  <thead>\n",
       "    <tr style=\"text-align: right;\">\n",
       "      <th></th>\n",
       "      <th>Relative_Compactness</th>\n",
       "      <th>Surface_Area</th>\n",
       "      <th>Wall_Area</th>\n",
       "      <th>Roof_Area</th>\n",
       "      <th>Overall_Height</th>\n",
       "      <th>Orientation</th>\n",
       "      <th>Glazing_Area</th>\n",
       "      <th>Glazing_Area_Distribution</th>\n",
       "      <th>Unnamed: 10</th>\n",
       "      <th>Unnamed: 11</th>\n",
       "    </tr>\n",
       "  </thead>\n",
       "  <tbody>\n",
       "    <tr>\n",
       "      <th>0</th>\n",
       "      <td>0.62</td>\n",
       "      <td>514.5</td>\n",
       "      <td>294.0</td>\n",
       "      <td>220.5</td>\n",
       "      <td>3.5</td>\n",
       "      <td>2.0</td>\n",
       "      <td>0.10</td>\n",
       "      <td>1.0</td>\n",
       "      <td>NaN</td>\n",
       "      <td>NaN</td>\n",
       "    </tr>\n",
       "    <tr>\n",
       "      <th>1</th>\n",
       "      <td>0.64</td>\n",
       "      <td>563.5</td>\n",
       "      <td>318.5</td>\n",
       "      <td>NaN</td>\n",
       "      <td>7.0</td>\n",
       "      <td>3.0</td>\n",
       "      <td>0.25</td>\n",
       "      <td>2.0</td>\n",
       "      <td>NaN</td>\n",
       "      <td>NaN</td>\n",
       "    </tr>\n",
       "    <tr>\n",
       "      <th>2</th>\n",
       "      <td>0.66</td>\n",
       "      <td>588.0</td>\n",
       "      <td>NaN</td>\n",
       "      <td>NaN</td>\n",
       "      <td>NaN</td>\n",
       "      <td>4.0</td>\n",
       "      <td>0.40</td>\n",
       "      <td>3.0</td>\n",
       "      <td>NaN</td>\n",
       "      <td>NaN</td>\n",
       "    </tr>\n",
       "    <tr>\n",
       "      <th>3</th>\n",
       "      <td>0.69</td>\n",
       "      <td>612.5</td>\n",
       "      <td>NaN</td>\n",
       "      <td>NaN</td>\n",
       "      <td>NaN</td>\n",
       "      <td>5.0</td>\n",
       "      <td>NaN</td>\n",
       "      <td>4.0</td>\n",
       "      <td>NaN</td>\n",
       "      <td>NaN</td>\n",
       "    </tr>\n",
       "    <tr>\n",
       "      <th>4</th>\n",
       "      <td>0.71</td>\n",
       "      <td>637.0</td>\n",
       "      <td>NaN</td>\n",
       "      <td>NaN</td>\n",
       "      <td>NaN</td>\n",
       "      <td>NaN</td>\n",
       "      <td>NaN</td>\n",
       "      <td>5.0</td>\n",
       "      <td>NaN</td>\n",
       "      <td>NaN</td>\n",
       "    </tr>\n",
       "    <tr>\n",
       "      <th>5</th>\n",
       "      <td>0.74</td>\n",
       "      <td>661.5</td>\n",
       "      <td>NaN</td>\n",
       "      <td>NaN</td>\n",
       "      <td>NaN</td>\n",
       "      <td>NaN</td>\n",
       "      <td>NaN</td>\n",
       "      <td>NaN</td>\n",
       "      <td>NaN</td>\n",
       "      <td>NaN</td>\n",
       "    </tr>\n",
       "    <tr>\n",
       "      <th>6</th>\n",
       "      <td>0.76</td>\n",
       "      <td>686.0</td>\n",
       "      <td>NaN</td>\n",
       "      <td>NaN</td>\n",
       "      <td>NaN</td>\n",
       "      <td>NaN</td>\n",
       "      <td>NaN</td>\n",
       "      <td>NaN</td>\n",
       "      <td>NaN</td>\n",
       "      <td>NaN</td>\n",
       "    </tr>\n",
       "    <tr>\n",
       "      <th>7</th>\n",
       "      <td>0.79</td>\n",
       "      <td>710.5</td>\n",
       "      <td>NaN</td>\n",
       "      <td>NaN</td>\n",
       "      <td>NaN</td>\n",
       "      <td>NaN</td>\n",
       "      <td>NaN</td>\n",
       "      <td>NaN</td>\n",
       "      <td>NaN</td>\n",
       "      <td>NaN</td>\n",
       "    </tr>\n",
       "    <tr>\n",
       "      <th>8</th>\n",
       "      <td>0.82</td>\n",
       "      <td>735.0</td>\n",
       "      <td>NaN</td>\n",
       "      <td>NaN</td>\n",
       "      <td>NaN</td>\n",
       "      <td>NaN</td>\n",
       "      <td>NaN</td>\n",
       "      <td>NaN</td>\n",
       "      <td>NaN</td>\n",
       "      <td>NaN</td>\n",
       "    </tr>\n",
       "    <tr>\n",
       "      <th>9</th>\n",
       "      <td>0.86</td>\n",
       "      <td>759.5</td>\n",
       "      <td>NaN</td>\n",
       "      <td>NaN</td>\n",
       "      <td>NaN</td>\n",
       "      <td>NaN</td>\n",
       "      <td>NaN</td>\n",
       "      <td>NaN</td>\n",
       "      <td>NaN</td>\n",
       "      <td>NaN</td>\n",
       "    </tr>\n",
       "    <tr>\n",
       "      <th>10</th>\n",
       "      <td>0.90</td>\n",
       "      <td>784.0</td>\n",
       "      <td>NaN</td>\n",
       "      <td>NaN</td>\n",
       "      <td>NaN</td>\n",
       "      <td>NaN</td>\n",
       "      <td>NaN</td>\n",
       "      <td>NaN</td>\n",
       "      <td>NaN</td>\n",
       "      <td>NaN</td>\n",
       "    </tr>\n",
       "    <tr>\n",
       "      <th>11</th>\n",
       "      <td>0.98</td>\n",
       "      <td>808.5</td>\n",
       "      <td>NaN</td>\n",
       "      <td>NaN</td>\n",
       "      <td>NaN</td>\n",
       "      <td>NaN</td>\n",
       "      <td>NaN</td>\n",
       "      <td>NaN</td>\n",
       "      <td>NaN</td>\n",
       "      <td>NaN</td>\n",
       "    </tr>\n",
       "  </tbody>\n",
       "</table>\n",
       "</div>"
      ],
      "text/plain": [
       "    Relative_Compactness  Surface_Area  Wall_Area  Roof_Area  Overall_Height  \\\n",
       "0                   0.62         514.5      294.0      220.5             3.5   \n",
       "1                   0.64         563.5      318.5        NaN             7.0   \n",
       "2                   0.66         588.0        NaN        NaN             NaN   \n",
       "3                   0.69         612.5        NaN        NaN             NaN   \n",
       "4                   0.71         637.0        NaN        NaN             NaN   \n",
       "5                   0.74         661.5        NaN        NaN             NaN   \n",
       "6                   0.76         686.0        NaN        NaN             NaN   \n",
       "7                   0.79         710.5        NaN        NaN             NaN   \n",
       "8                   0.82         735.0        NaN        NaN             NaN   \n",
       "9                   0.86         759.5        NaN        NaN             NaN   \n",
       "10                  0.90         784.0        NaN        NaN             NaN   \n",
       "11                  0.98         808.5        NaN        NaN             NaN   \n",
       "\n",
       "    Orientation  Glazing_Area  Glazing_Area_Distribution  Unnamed: 10  \\\n",
       "0           2.0          0.10                        1.0          NaN   \n",
       "1           3.0          0.25                        2.0          NaN   \n",
       "2           4.0          0.40                        3.0          NaN   \n",
       "3           5.0           NaN                        4.0          NaN   \n",
       "4           NaN           NaN                        5.0          NaN   \n",
       "5           NaN           NaN                        NaN          NaN   \n",
       "6           NaN           NaN                        NaN          NaN   \n",
       "7           NaN           NaN                        NaN          NaN   \n",
       "8           NaN           NaN                        NaN          NaN   \n",
       "9           NaN           NaN                        NaN          NaN   \n",
       "10          NaN           NaN                        NaN          NaN   \n",
       "11          NaN           NaN                        NaN          NaN   \n",
       "\n",
       "    Unnamed: 11  \n",
       "0           NaN  \n",
       "1           NaN  \n",
       "2           NaN  \n",
       "3           NaN  \n",
       "4           NaN  \n",
       "5           NaN  \n",
       "6           NaN  \n",
       "7           NaN  \n",
       "8           NaN  \n",
       "9           NaN  \n",
       "10          NaN  \n",
       "11          NaN  "
      ]
     },
     "execution_count": 87,
     "metadata": {},
     "output_type": "execute_result"
    }
   ],
   "source": [
    "df.mode()"
   ]
  },
  {
   "cell_type": "code",
   "execution_count": 88,
   "id": "f39b1eca",
   "metadata": {},
   "outputs": [
    {
     "data": {
      "text/plain": [
       "Relative_Compactness           0.75\n",
       "Surface_Area                 673.75\n",
       "Wall_Area                    318.50\n",
       "Roof_Area                    183.75\n",
       "Overall_Height                 5.25\n",
       "Orientation                    3.50\n",
       "Glazing_Area                   0.25\n",
       "Glazing_Area_Distribution      3.00\n",
       "Unnamed: 10                     NaN\n",
       "Unnamed: 11                     NaN\n",
       "dtype: float64"
      ]
     },
     "execution_count": 88,
     "metadata": {},
     "output_type": "execute_result"
    }
   ],
   "source": [
    "df.median()"
   ]
  },
  {
   "cell_type": "code",
   "execution_count": 89,
   "id": "cffa00b1",
   "metadata": {},
   "outputs": [
    {
     "data": {
      "text/plain": [
       "Relative_Compactness            586.88\n",
       "Surface_Area                 515872.00\n",
       "Wall_Area                    244608.00\n",
       "Roof_Area                    135632.00\n",
       "Overall_Height                 4032.00\n",
       "Orientation                    2688.00\n",
       "Glazing_Area                    180.00\n",
       "Glazing_Area_Distribution      2160.00\n",
       "Unnamed: 10                       0.00\n",
       "Unnamed: 11                       0.00\n",
       "dtype: float64"
      ]
     },
     "execution_count": 89,
     "metadata": {},
     "output_type": "execute_result"
    }
   ],
   "source": [
    "df.sum()"
   ]
  },
  {
   "cell_type": "code",
   "execution_count": 90,
   "id": "8de04fdc",
   "metadata": {},
   "outputs": [
    {
     "data": {
      "text/plain": [
       "Relative_Compactness            0.011189\n",
       "Surface_Area                 7759.163842\n",
       "Wall_Area                    1903.269883\n",
       "Roof_Area                    2039.963060\n",
       "Overall_Height                  3.066493\n",
       "Orientation                     1.251630\n",
       "Glazing_Area                    0.017748\n",
       "Glazing_Area_Distribution       2.405476\n",
       "Unnamed: 10                          NaN\n",
       "Unnamed: 11                          NaN\n",
       "dtype: float64"
      ]
     },
     "execution_count": 90,
     "metadata": {},
     "output_type": "execute_result"
    }
   ],
   "source": [
    "df.var()"
   ]
  },
  {
   "cell_type": "code",
   "execution_count": 91,
   "id": "02089263",
   "metadata": {},
   "outputs": [
    {
     "data": {
      "text/plain": [
       "Relative_Compactness           0.764167\n",
       "Surface_Area                 671.708333\n",
       "Wall_Area                    318.500000\n",
       "Roof_Area                    176.604167\n",
       "Overall_Height                 5.250000\n",
       "Orientation                    3.500000\n",
       "Glazing_Area                   0.234375\n",
       "Glazing_Area_Distribution      2.812500\n",
       "Unnamed: 10                         NaN\n",
       "Unnamed: 11                         NaN\n",
       "dtype: float64"
      ]
     },
     "execution_count": 91,
     "metadata": {},
     "output_type": "execute_result"
    }
   ],
   "source": [
    "df.mean()"
   ]
  },
  {
   "cell_type": "code",
   "execution_count": 92,
   "id": "b542198c",
   "metadata": {},
   "outputs": [
    {
     "data": {
      "text/plain": [
       "Relative_Compactness           0.62\n",
       "Surface_Area                 514.50\n",
       "Wall_Area                    245.00\n",
       "Roof_Area                    110.25\n",
       "Overall_Height                 3.50\n",
       "Orientation                    2.00\n",
       "Glazing_Area                   0.00\n",
       "Glazing_Area_Distribution      0.00\n",
       "Unnamed: 10                     NaN\n",
       "Unnamed: 11                     NaN\n",
       "dtype: float64"
      ]
     },
     "execution_count": 92,
     "metadata": {},
     "output_type": "execute_result"
    }
   ],
   "source": [
    "df.min()"
   ]
  },
  {
   "cell_type": "code",
   "execution_count": 106,
   "id": "7ac1d0d6",
   "metadata": {},
   "outputs": [
    {
     "name": "stdout",
     "output_type": "stream",
     "text": [
      "Note: you may need to restart the kernel to use updated packages.Requirement already satisfied: scikit-learn in c:\\users\\pc\\anaconda3\\lib\\site-packages (0.24.1)\n",
      "\n",
      "Requirement already satisfied: joblib>=0.11 in c:\\users\\pc\\anaconda3\\lib\\site-packages (from scikit-learn) (1.0.1)\n",
      "Requirement already satisfied: numpy>=1.13.3 in c:\\users\\pc\\anaconda3\\lib\\site-packages (from scikit-learn) (1.20.1)\n",
      "Requirement already satisfied: scipy>=0.19.1 in c:\\users\\pc\\anaconda3\\lib\\site-packages (from scikit-learn) (1.6.2)\n",
      "Requirement already satisfied: threadpoolctl>=2.0.0 in c:\\users\\pc\\anaconda3\\lib\\site-packages (from scikit-learn) (2.1.0)\n"
     ]
    }
   ],
   "source": [
    "pip install scikit-learn\n"
   ]
  },
  {
   "cell_type": "code",
   "execution_count": 108,
   "id": "1182cdbb",
   "metadata": {},
   "outputs": [
    {
     "data": {
      "image/png": "[encoded data removed]",
      "text/plain": [
       "<Figure size 432x288 with 1 Axes>"
      ]
     },
     "metadata": {
      "needs_background": "light"
     },
     "output_type": "display_data"
    }
   ],
   "source": [
    "# To read data\n",
    "from sklearn.linear_model import LinearRegression\n",
    "data = pd.read_excel(r\"C:\\Users\\PC\\Documents\\Hamoye Classwork\\CSV File\\ENB2012_data_csv.xlsx\") \n",
    "# load data set\n",
    "X = data.iloc[:, 0].values.reshape(-1, 1)  # values converts it into a numpy array\n",
    "Y = data.iloc[:, 1].values.reshape(-1, 1)  # -1 means that calculate the dimension of rows, but have 1 column\n",
    "linear_regressor = LinearRegression()  # create object for the class\n",
    "linear_regressor.fit(X, Y)  # perform linear regression\n",
    "Y_pred = linear_regressor.predict(X)  # make predictions\n",
    "plt.scatter(X, Y)\n",
    "plt.plot(X, Y_pred, color='red')\n",
    "plt.show()"
   ]
  },
  {
   "cell_type": "code",
   "execution_count": 114,
   "id": "2275fc4b",
   "metadata": {},
   "outputs": [
    {
     "name": "stdout",
     "output_type": "stream",
     "text": [
      "Relative_Compactness 12\n",
      "Surface_Area 12\n",
      "Wall_Area 7\n",
      "Roof_Area 4\n",
      "Orientation 4\n",
      "Glazing_Area 4\n",
      "Glazing_Area_Distribution 6\n",
      "Unnamed: 10 1\n",
      "Unnamed: 11 1\n"
     ]
    },
    {
     "data": {
      "text/plain": [
       "Text(0, 0.5, 'Frequency')"
      ]
     },
     "execution_count": 114,
     "metadata": {},
     "output_type": "execute_result"
    },
    {
     "data": {
      "image/png": "[encoded data removed]",
      "text/plain": [
       "<Figure size 432x288 with 1 Axes>"
      ]
     },
     "metadata": {},
     "output_type": "display_data"
    }
   ],
   "source": [
    "import matplotlib.pyplot as plt\n",
    "plt.style.use('ggplot')\n",
    "data = pd.read_excel(r\"C:\\Users\\PC\\Documents\\Hamoye Classwork\\CSV File\\ENB2012_data_csv.xlsx\") \n",
    "# load data set\n",
    "# histogram of the Overall height\n",
    "for feature in df.columns:\n",
    "    if feature!=\"Overall_Height\":\n",
    "        print(feature,len(df[feature].unique()))\n",
    "plt.title('Distribution of Dates', size=24)\n",
    "plt.xlabel('Dates (Time)', size=18)\n",
    "plt.ylabel('Frequency', size=18)"
   ]
  },
  {
   "cell_type": "code",
   "execution_count": 117,
   "id": "30f0852a",
   "metadata": {},
   "outputs": [
    {
     "data": {
      "image/png": "[encoded data removed]",
      "text/plain": [
       "<Figure size 720x504 with 1 Axes>"
      ]
     },
     "metadata": {},
     "output_type": "display_data"
    }
   ],
   "source": [
    "import matplotlib.pyplot as plt\n",
    "plt.style.use('ggplot')\n",
    "\n",
    "\n",
    "# histogram of the Roof_Area\n",
    "df.Roof_Area.plot(kind='hist', color='purple', edgecolor='black', figsize=(10,7))\n",
    "plt.title('Distribution of Roof_Area', size=24)\n",
    "plt.xlabel('Area(mm square)', size=18)\n",
    "plt.ylabel('Frequency', size=18);"
   ]
  },
  {
   "cell_type": "code",
   "execution_count": 118,
   "id": "16649b87",
   "metadata": {},
   "outputs": [
    {
     "data": {
      "text/plain": [
       "Text(0, 0.5, 'Frequency')"
      ]
     },
     "execution_count": 118,
     "metadata": {},
     "output_type": "execute_result"
    },
    {
     "data": {
      "image/png": "[encoded data removed]",
      "text/plain": [
       "<Figure size 720x504 with 1 Axes>"
      ]
     },
     "metadata": {},
     "output_type": "display_data"
    }
   ],
   "source": [
    "# histogram of the Surface_Area\n",
    "df.Surface_Area.plot(kind='hist', color='purple', edgecolor='black', figsize=(10,7))\n",
    "plt.title('Distribution of Surface_Area', size=24)\n",
    "plt.xlabel('Area (mm square)', size=18)\n",
    "plt.ylabel('Frequency', size=18)\n"
   ]
  },
  {
   "cell_type": "code",
   "execution_count": 119,
   "id": "684267f2",
   "metadata": {},
   "outputs": [
    {
     "data": {
      "text/plain": [
       "Text(0, 0.5, 'Frequency')"
      ]
     },
     "execution_count": 119,
     "metadata": {},
     "output_type": "execute_result"
    },
    {
     "data": {
      "image/png": "[encoded data removed]",
      "text/plain": [
       "<Figure size 720x504 with 1 Axes>"
      ]
     },
     "metadata": {},
     "output_type": "display_data"
    }
   ],
   "source": [
    "# histogram of the Glazing_Area\n",
    "df.Glazing_Area.plot(kind='hist', color='purple', edgecolor='black', figsize=(10,7))\n",
    "plt.title('Distribution of Glazing_Area', size=24)\n",
    "plt.xlabel('Area (mm square)', size=18)\n",
    "plt.ylabel('Frequency', size=18)\n"
   ]
  },
  {
   "cell_type": "code",
   "execution_count": 120,
   "id": "9be3da75",
   "metadata": {},
   "outputs": [
    {
     "data": {
      "text/plain": [
       "Text(0, 0.5, 'Frequency')"
      ]
     },
     "execution_count": 120,
     "metadata": {},
     "output_type": "execute_result"
    },
    {
     "data": {
      "image/png": "[encoded data removed]",
      "text/plain": [
       "<Figure size 720x504 with 1 Axes>"
      ]
     },
     "metadata": {},
     "output_type": "display_data"
    }
   ],
   "source": [
    "# histogram of the Overall_Height\n",
    "df.Overall_Height.plot(kind='hist', color='purple', edgecolor='black', figsize=(10,7))\n",
    "plt.title('Distribution of Overall_Height', size=24)\n",
    "plt.xlabel('Area (mm square)', size=18)\n",
    "plt.ylabel('Frequency', size=18)\n"
   ]
  },
  {
   "cell_type": "code",
   "execution_count": 126,
   "id": "ee0a7c83",
   "metadata": {},
   "outputs": [
    {
     "data": {
      "text/plain": [
       "Text(0, 0.5, 'Frequency')"
      ]
     },
     "execution_count": 126,
     "metadata": {},
     "output_type": "execute_result"
    },
    {
     "data": {
      "image/png": "[encoded data removed]",
      "text/plain": [
       "<Figure size 720x504 with 1 Axes>"
      ]
     },
     "metadata": {},
     "output_type": "display_data"
    }
   ],
   "source": [
    "# histogram of the Relative_Compactness\n",
    "df.Relative_Compactness.plot(kind='hist', color='purple', edgecolor='black', figsize=(10,7))\n",
    "plt.title('Distribution of Relative_Compactness', size=24)\n",
    "plt.xlabel('Area (mm square)', size=18)\n",
    "plt.ylabel('Frequency', size=18)\n"
   ]
  },
  {
   "cell_type": "code",
   "execution_count": 129,
   "id": "d7b47c85",
   "metadata": {},
   "outputs": [
    {
     "data": {
      "image/png": "[encoded data removed]",
      "text/plain": [
       "<Figure size 720x504 with 1 Axes>"
      ]
     },
     "metadata": {},
     "output_type": "display_data"
    }
   ],
   "source": [
    "# histogram of the size - Orientation and Surface_Area\n",
    "df.Orientation.plot(kind='hist', color='purple', edgecolor='black', figsize=(10,7))\n",
    "df.Surface_Area.plot(kind='hist', color='purple', edgecolor='black', figsize=(10,7))\n",
    "plt.legend(labels=['Orientation', 'Surface_Area'])\n",
    "plt.title('Distribution of size', size=24)\n",
    "plt.xlabel('Height (cm3)', size=18)\n",
    "plt.ylabel('Frequency', size=18);"
   ]
  },
  {
   "cell_type": "code",
   "execution_count": 128,
   "id": "3e4dc705",
   "metadata": {},
   "outputs": [
    {
     "data": {
      "image/png": "[encoded data removed]",
      "text/plain": [
       "<Figure size 720x504 with 1 Axes>"
      ]
     },
     "metadata": {},
     "output_type": "display_data"
    }
   ],
   "source": [
    "# histogram of the size - Wall_Area and Roof_Area\n",
    "df.Wall_Area.plot(kind='hist', color='purple', edgecolor='black', figsize=(10,7))\n",
    "df.Roof_Area.plot(kind='hist', color='purple', edgecolor='black', figsize=(10,7))\n",
    "plt.legend(labels=['Wall_Area', 'Roof_Area'])\n",
    "plt.title('Distribution of size', size=24)\n",
    "plt.xlabel('Height (cm3)', size=18)\n",
    "plt.ylabel('Frequency', size=18);\n"
   ]
  },
  {
   "cell_type": "code",
   "execution_count": null,
   "id": "88fa85d4",
   "metadata": {},
   "outputs": [],
   "source": []
  }
 ],
 "metadata": {
  "kernelspec": {
   "display_name": "Python 3",
   "language": "python",
   "name": "python3"
  },
  "language_info": {
   "codemirror_mode": {
    "name": "ipython",
    "version": 3
   },
   "file_extension": ".py",
   "mimetype": "text/x-python",
   "name": "python",
   "nbconvert_exporter": "python",
   "pygments_lexer": "ipython3",
   "version": "3.8.8"
  }
 },
 "nbformat": 4,
 "nbformat_minor": 5
}
